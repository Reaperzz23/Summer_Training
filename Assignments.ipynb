{
 "cells": [
  {
   "cell_type": "code",
   "execution_count": 1,
   "id": "1cd417ed-1454-4096-9fa5-d0e54e3fc6f2",
   "metadata": {},
   "outputs": [],
   "source": [
    "#Assignment 1"
   ]
  },
  {
   "cell_type": "code",
   "execution_count": 7,
   "id": "df4f5c8f-c93a-4113-82ba-c0061833c98c",
   "metadata": {},
   "outputs": [
    {
     "name": "stdout",
     "output_type": "stream",
     "text": [
      "\t\t\t\tGrade Calculator\n"
     ]
    },
    {
     "name": "stdin",
     "output_type": "stream",
     "text": [
      "Enter Marks Obtained 495\n",
      "Enter Total Marks 500\n"
     ]
    },
    {
     "name": "stdout",
     "output_type": "stream",
     "text": [
      "Student Passed with percentage: 99.0\n",
      "Grade Of Student is A\n"
     ]
    }
   ],
   "source": [
    "#Grade calculator – Input marks → Output grade (A, B, C, etc.)\n",
    "print('\\t\\t\\t\\tGrade Calculator')\n",
    "marks=float(input('Enter Marks Obtained'))\n",
    "total_marks=float(input('Enter Total Marks'))\n",
    "result=(marks/total_marks)*100\n",
    "if marks<=total_marks:\n",
    "    if result>=33:\n",
    "        print(\"Student Passed with percentage:\",result)\n",
    "        if result>90 and result<=100:\n",
    "            print('Grade Of Student is A')\n",
    "        elif result>80 and result<=90:\n",
    "            print('Grade of Student is B')\n",
    "        elif result>65 and result<=80:\n",
    "            print('Grade of Student is C')\n",
    "        elif result>50 and result<=65:\n",
    "            print('Grade of Student is D')\n",
    "        elif result>=33 and result<=50:\n",
    "            print('Grade of Student is E')\n",
    "    else:\n",
    "        print('Student Failed')\n",
    "else:\n",
    "    print('Ivalid Marks Input')"
   ]
  },
  {
   "cell_type": "code",
   "execution_count": 3,
   "id": "bebf19c9-004a-4579-91f7-6ca1ef7c0b55",
   "metadata": {},
   "outputs": [
    {
     "name": "stdout",
     "output_type": "stream",
     "text": [
      "\t\t\t\tCalculator\n",
      "\n",
      "\n"
     ]
    },
    {
     "name": "stdin",
     "output_type": "stream",
     "text": [
      "Enter Number: 1\n",
      "Enter Number: 2\n"
     ]
    },
    {
     "name": "stdout",
     "output_type": "stream",
     "text": [
      "1) + for Addition\n",
      "2) - for Subtraction\n",
      "3) / for Division\n",
      "4) * for Multiplication\n"
     ]
    },
    {
     "name": "stdin",
     "output_type": "stream",
     "text": [
      "Enter Operation: +\n"
     ]
    },
    {
     "name": "stdout",
     "output_type": "stream",
     "text": [
      "Result: 3.0\n",
      "Enter 0 to Terminate the programm\n"
     ]
    },
    {
     "name": "stdin",
     "output_type": "stream",
     "text": [
      "Enter Number:\n",
      " 0\n"
     ]
    },
    {
     "name": "stdout",
     "output_type": "stream",
     "text": [
      "Terminating...\n"
     ]
    }
   ],
   "source": [
    "#Simple calculator – Choose operation (+, -, *, /) → Output result\n",
    "print('\\t\\t\\t\\tCalculator\\n\\n')\n",
    "num1=float(input('Enter Number:'))\n",
    "result=0.0\n",
    "num2=float(input('Enter Number:'))\n",
    "if (num2!=0):\n",
    "    print('''1) + for Addition\\n2) - for Subtraction\\n3) / for Division\\n4) * for Multiplication''')\n",
    "    while 'TRUE':\n",
    "        if (num2!=0):\n",
    "            operation= input('Enter Operation:')\n",
    "            if operation=='+':\n",
    "                result=num1+num2\n",
    "            elif operation=='-':\n",
    "                result=num1-num2\n",
    "            elif operation=='/':\n",
    "                result=num1/num2\n",
    "            elif operation=='*':\n",
    "                result=num1*num2\n",
    "            else:\n",
    "                print('Invalid Option')\n",
    "            print('Result:',result)\n",
    "            num1=result\n",
    "            print('Enter 0 to Terminate the programm')\n",
    "            num2=float(input('Enter Number:\\n'))\n",
    "        else:\n",
    "            break\n",
    "print(\"Terminating...\")"
   ]
  },
  {
   "cell_type": "code",
   "execution_count": 22,
   "id": "c384bcec-4ee9-417a-ae7c-88d1fc1082ac",
   "metadata": {},
   "outputs": [
    {
     "name": "stdout",
     "output_type": "stream",
     "text": [
      "\t\t\t\t\t\t\tAge Checker\n"
     ]
    },
    {
     "name": "stdin",
     "output_type": "stream",
     "text": [
      "Enter Age In Complete Years 18\n"
     ]
    },
    {
     "name": "stdout",
     "output_type": "stream",
     "text": [
      "You Are Eligible for voting and driving\n"
     ]
    }
   ],
   "source": [
    "#Age checker – Input age → Output whether eligible for voting, driving, etc.\n",
    "print('\\t\\t\\t\\tAge Checker')\n",
    "age=int(input('Enter Age In Complete Years'))\n",
    "if age>=18:\n",
    "    print('You Are Eligible for voting and driving')\n",
    "else:\n",
    "    print('You Are Under-age')"
   ]
  },
  {
   "cell_type": "code",
   "execution_count": 23,
   "id": "190bd7e4-30df-4a92-a4da-7c839bdf092c",
   "metadata": {},
   "outputs": [],
   "source": [
    "#Assignment 2"
   ]
  },
  {
   "cell_type": "code",
   "execution_count": 8,
   "id": "0b3ea564-cd9c-4aff-aa3a-d8bef420928d",
   "metadata": {},
   "outputs": [
    {
     "name": "stdout",
     "output_type": "stream",
     "text": [
      "\t\t\t\tBus Fare Calculator\n"
     ]
    },
    {
     "name": "stdin",
     "output_type": "stream",
     "text": [
      "Enter your Stop no 5\n",
      "Enter Age 18\n"
     ]
    },
    {
     "name": "stdout",
     "output_type": "stream",
     "text": [
      "Total Fare: 13.5\n"
     ]
    }
   ],
   "source": [
    "#Bus ticket fare calculator (with age-based discount)\n",
    "print('\\t\\t\\t\\tBus Fare Calculator')\n",
    "a=int(input('Enter your Stop no'))\n",
    "age=int(input('Enter Age'))\n",
    "fixed_fare=5\n",
    "charge=2*a\n",
    "discount=0\n",
    "if age<=18:\n",
    "    discount=(fixed_fare+charge)/10\n",
    "if age>18 and age<=45:\n",
    "    discount=(fixed_fare+charge)/20\n",
    "if age>45:\n",
    "    discount=(fixed_fare+charge)/10\n",
    "total_fare=fixed_fare+charge-discount\n",
    "print('Total Fare:',total_fare)"
   ]
  },
  {
   "cell_type": "code",
   "execution_count": 10,
   "id": "747730c8-6bbe-4949-812a-b1fb214ddacb",
   "metadata": {},
   "outputs": [
    {
     "name": "stdout",
     "output_type": "stream",
     "text": [
      "\t\t\tElectricity bill Generator\n"
     ]
    },
    {
     "name": "stdin",
     "output_type": "stream",
     "text": [
      "Enter total Unit 213.4\n"
     ]
    },
    {
     "name": "stdout",
     "output_type": "stream",
     "text": [
      "Total Bill Amount: 653.6\n"
     ]
    }
   ],
   "source": [
    "#Electricity bill generator (based on units)\n",
    "print('\\t\\t\\tElectricity bill Generator')\n",
    "unit=float(input('Enter total Unit'))\n",
    "price=0\n",
    "if unit<=200:\n",
    "    price=unit*3\n",
    "elif unit>200 and unit<=300:\n",
    "    price=(200*3)+(unit-200)*4\n",
    "elif unit>300 and unit<=400:\n",
    "    price=(200*3)+(100*4)+(unit-300)*5\n",
    "elif unit>400:\n",
    "    price=(200*3)+(100*4)+(100*5)+(unit-400)*6\n",
    "print('Total Bill Amount:',price)"
   ]
  },
  {
   "cell_type": "code",
   "execution_count": 12,
   "id": "1cd041df-eeb5-45ee-9744-e3436da2b266",
   "metadata": {},
   "outputs": [
    {
     "name": "stdout",
     "output_type": "stream",
     "text": [
      "\t\t\tLibrary Fine Calculator\n"
     ]
    },
    {
     "name": "stdin",
     "output_type": "stream",
     "text": [
      "No of days past due date 21\n"
     ]
    },
    {
     "name": "stdout",
     "output_type": "stream",
     "text": [
      "Fine for Due days: 94\n"
     ]
    }
   ],
   "source": [
    "#Library fine calculator (based on overdue days)\n",
    "print('\\t\\t\\tLibrary Fine Calculator')\n",
    "days=int(input('No of days past due date'))\n",
    "fixed_charge=10a\n",
    "if days<=7:\n",
    "    extra=3*days\n",
    "elif days>7 and days<=14:\n",
    "    extra=3*7 +(days-7)*4\n",
    "elif days>14 and days<=21:\n",
    "    extra=3*7 +4*7+ (days-14)*5\n",
    "elif days>21:\n",
    "    extra=3*7+4*7+5*7+(unit-21)*6\n",
    "total_fine=fixed_charge+extra\n",
    "print('Fine for Due days:',total_fine)"
   ]
  },
  {
   "cell_type": "code",
   "execution_count": 13,
   "id": "4746e474-243c-4f41-bcb9-715a1ecc2dc1",
   "metadata": {},
   "outputs": [
    {
     "name": "stdout",
     "output_type": "stream",
     "text": [
      "\t\t\t\tLogin\n"
     ]
    },
    {
     "name": "stdin",
     "output_type": "stream",
     "text": [
      "Enter Your Login id admin\n",
      "Enter Your Password 12345678\n"
     ]
    },
    {
     "name": "stdout",
     "output_type": "stream",
     "text": [
      "Invalid Login id and Password \n",
      "\t\tTry Again\n"
     ]
    },
    {
     "name": "stdin",
     "output_type": "stream",
     "text": [
      "Enter Your Login id fewja\n",
      "Enter Your Password fewkj\n"
     ]
    },
    {
     "name": "stdout",
     "output_type": "stream",
     "text": [
      "Invalid Login id and Password \n",
      "\t\tTry Again\n",
      "You entered Invalid Login id or password for 2 times\n",
      "This is Last Attempt\n"
     ]
    },
    {
     "name": "stdin",
     "output_type": "stream",
     "text": [
      "Enter Your Login id jfkeq\n",
      "Enter Your Password few\n"
     ]
    },
    {
     "name": "stdout",
     "output_type": "stream",
     "text": [
      "Invalid Login id and Password entered for 3 times \n",
      "For security Reasons your further login attempts are cancled\n"
     ]
    }
   ],
   "source": [
    "# Simple login system (with 3 attempts)\n",
    "print('\\t\\t\\t\\tLogin')\n",
    "login_id='abc@gmail.com'\n",
    "password='12345678'\n",
    "i=0\n",
    "while i<3:\n",
    "    a=input('Enter Your Login id')\n",
    "    b=input('Enter Your Password')\n",
    "    if a==login_id and b==password:\n",
    "        print('Login Successfull')\n",
    "        break\n",
    "    else:\n",
    "        if i<2:\n",
    "            print('Invalid Login id and Password \\n\\t\\tTry Again')\n",
    "        i +=1\n",
    "    if i==2:\n",
    "        print('You entered Invalid Login id or password for 2 times\\nThis is Last Attempt')\n",
    "if i==3:\n",
    "    print('Invalid Login id and Password entered for 3 times \\nFor security Reasons your further login attempts are cancled')"
   ]
  },
  {
   "cell_type": "code",
   "execution_count": null,
   "id": "2ec342ff-7b1d-4fdb-9e07-83429d65e326",
   "metadata": {},
   "outputs": [],
   "source": []
  }
 ],
 "metadata": {
  "kernelspec": {
   "display_name": "Python 3 (ipykernel)",
   "language": "python",
   "name": "python3"
  },
  "language_info": {
   "codemirror_mode": {
    "name": "ipython",
    "version": 3
   },
   "file_extension": ".py",
   "mimetype": "text/x-python",
   "name": "python",
   "nbconvert_exporter": "python",
   "pygments_lexer": "ipython3",
   "version": "3.12.7"
  }
 },
 "nbformat": 4,
 "nbformat_minor": 5
}
